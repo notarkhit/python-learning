import matplotlib.pyplot as plt
import csv

x = []
y = []

with open('iris.csv','r') as heartDisease_csv:
    plots = csv.reader(heartDisease_csv, delimiter=',')
    for row in plots:
        x.append(row[4])
        y.append(row[3])

plt.bar(x,y)
plt.xlabel('x')
plt.ylabel('y')
plt.show()



import matplotlib.pyplot as plt
import csv

x = []
y = []

with open('stu.csv','r') as student_csv:
    plots = csv.reader(student_csv, delimiter=',')
    for row in plots:
        x.append(row[4])
        y.append(row[3])
plt.figure(figsize=(20,10))
plt.bar(x,y)
plt.xlabel('x')
plt.ylabel('y')
plt.show()



import matplotlib.pyplot as plt
import csv

x = []
y = []

with open('stu.csv','r') as student_csv:
    plots = csv.reader(student_csv, delimiter=',')
    for row in plots:
        x.append(row[2])
        y.append(row[1])
plt.plot(figsize=(20,10))
plt.bar(x,y)
plt.xlabel('x')
plt.ylabel('y')
plt.show()




