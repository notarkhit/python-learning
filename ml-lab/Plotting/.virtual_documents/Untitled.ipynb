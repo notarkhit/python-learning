import pandas as pd
import matplotlib.pyplot as plt
import csv

x = []
y = []

with open('heart_disease.csv','r') as heartDisease_csv:
    plots = csv.reader(heardDisease_csv, delimiter=',')
    for row in plots:
        x.append(row[1])
        y.append(row[2])

plt.plot(x,y, label='Loaded from file!')
plt.xlabel('x')
plt.ylabel('y')
plt.show()




