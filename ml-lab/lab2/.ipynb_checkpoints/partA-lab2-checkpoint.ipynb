{
 "cells": [
  {
   "cell_type": "code",
   "execution_count": 1,
   "id": "902fbd0e-278b-4fe8-962b-b89b52dcfeab",
   "metadata": {},
   "outputs": [],
   "source": [
    "import numpy as np\n",
    "import pandas as pd\n",
    "from sklearn.datasets import load_iris\n",
    "from sklearn.feature_selection import SelectKBest, f_classif, RFE\n",
    "from sklearn.model_selection import train_test_split\n",
    "from sklearn.ensemble import RandomForestClassifier"
   ]
  },
  {
   "cell_type": "code",
   "execution_count": 2,
   "id": "9b837123-77ef-4562-af95-4d40dedb202f",
   "metadata": {},
   "outputs": [],
   "source": [
    "iris = load_iris()\n",
    "X = pd.DataFrame(iris.data, columns=iris.feature_names)\n",
    "y = iris.target"
   ]
  },
  {
   "cell_type": "code",
   "execution_count": 3,
   "id": "987367a5-108d-4bcd-b4ea-985647c1d9f0",
   "metadata": {},
   "outputs": [],
   "source": [
    "X_train, X_test, y_train, y_test = train_test_split(X, y, test_size=0.3, random_state=42)"
   ]
  },
  {
   "cell_type": "code",
   "execution_count": 4,
   "id": "c4ddbe01-f0d2-438e-ac63-484b277e3fac",
   "metadata": {},
   "outputs": [
    {
     "name": "stdout",
     "output_type": "stream",
     "text": [
      "Univariate Feature Selection:\n",
      "Feature scores: [ 74.7572012   33.41979913 713.45534904 526.54162416]\n",
      "Selected features: Index(['petal length (cm)', 'petal width (cm)'], dtype='object')\n"
     ]
    }
   ],
   "source": [
    "print(\"Univariate Feature Selection:\")\n",
    "selector = SelectKBest(score_func=f_classif, k=2)\n",
    "X_new = selector.fit_transform(X_train, y_train)\n",
    "print(\"Feature scores:\", selector.scores_)\n",
    "print(\"Selected features:\", X_train.columns[selector.get_support()])"
   ]
  },
  {
   "cell_type": "code",
   "execution_count": 11,
   "id": "64c344fe-ae36-4ab7-a4e9-7f2edd54bb40",
   "metadata": {},
   "outputs": [
    {
     "name": "stdout",
     "output_type": "stream",
     "text": [
      "\n",
      "Recursive Feature Elimination (RFE):\n",
      "Selected features: Index(['petal length (cm)', 'petal width (cm)'], dtype='object')\n"
     ]
    }
   ],
   "source": [
    "print(\"\\nRecursive Feature Elimination (RFE):\")\n",
    "model = RandomForestClassifier(random_state=42)\n",
    "rfe = RFE(estimator=model, n_features_to_select=2)\n",
    "rfe.fit(X_train, y_train)\n",
    "# Display selected features\n",
    "print(\"Selected features:\", X_train.columns[rfe.support_])"
   ]
  },
  {
   "cell_type": "code",
   "execution_count": 14,
   "id": "cd6eb9a0-d61a-4e42-a403-2b4b8c1ccded",
   "metadata": {},
   "outputs": [
    {
     "name": "stdout",
     "output_type": "stream",
     "text": [
      "\n",
      "Feature Importance from Random Forest:\n",
      "Feature ranking:\n",
      "petal width (cm): 0.4339818709871682\n",
      "petal length (cm): 0.4173081338019912\n",
      "sepal length (cm): 0.10410500706117767\n",
      "sepal width (cm): 0.04460498814966301\n"
     ]
    }
   ],
   "source": [
    "print(\"\\nFeature Importance from Random Forest:\")\n",
    "model.fit(X_train,y_train)\n",
    "importances = model.feature_importances_\n",
    "indices = np.argsort(importances)[::-1]\n",
    "print(\"Feature ranking:\")\n",
    "for f in range(X_train.shape[1]):\n",
    "    print(f\"{X_train.columns[indices[f]]}: {importances[indices[f]]}\")"
   ]
  },
  {
   "cell_type": "code",
   "execution_count": null,
   "id": "5c3c485b-8a9b-4698-8b4f-a6811ced9ac8",
   "metadata": {},
   "outputs": [],
   "source": []
  }
 ],
 "metadata": {
  "kernelspec": {
   "display_name": "Python 3 (ipykernel)",
   "language": "python",
   "name": "python3"
  },
  "language_info": {
   "codemirror_mode": {
    "name": "ipython",
    "version": 3
   },
   "file_extension": ".py",
   "mimetype": "text/x-python",
   "name": "python",
   "nbconvert_exporter": "python",
   "pygments_lexer": "ipython3",
   "version": "3.12.7"
  }
 },
 "nbformat": 4,
 "nbformat_minor": 5
}
