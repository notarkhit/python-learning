{
 "cells": [
  {
   "cell_type": "code",
   "execution_count": 1,
   "id": "299291e4-6d67-4005-b790-126ab1cd9286",
   "metadata": {},
   "outputs": [],
   "source": [
    "import pandas as pd\n",
    "import numpy as np"
   ]
  },
  {
   "cell_type": "code",
   "execution_count": 2,
   "id": "0296a4a4-1557-450f-8766-a2d88b0d0dec",
   "metadata": {},
   "outputs": [],
   "source": [
    "data = pd.DataFrame ({\n",
    "    'age':[25, np.nan, 40, 45, np.nan],\n",
    "    'salary':[50000, 60000, np.nan, 65000, 70000],\n",
    "    'city':['New York','Los Angeles','New York','San Francisco', np.nan ],\n",
    "    'target':[1,0,1,0,1]\n",
    "})"
   ]
  },
  {
   "cell_type": "code",
   "execution_count": 3,
   "id": "eef04a88-6fef-4d9a-ae2d-8a60149d4af9",
   "metadata": {},
   "outputs": [
    {
     "name": "stdout",
     "output_type": "stream",
     "text": [
      "\n",
      "Original data\n",
      "    age   salary           city  target\n",
      "0  25.0  50000.0       New York       1\n",
      "1   NaN  60000.0    Los Angeles       0\n",
      "2  40.0      NaN       New York       1\n",
      "3  45.0  65000.0  San Francisco       0\n",
      "4   NaN  70000.0            NaN       1\n",
      "\n",
      "Missing values\n",
      "age       2\n",
      "salary    1\n",
      "city      1\n",
      "target    0\n",
      "dtype: int64\n",
      "\n",
      "Percentage of missing values\n",
      "age       40.0\n",
      "salary    20.0\n",
      "city      20.0\n",
      "target     0.0\n",
      "dtype: float64\n"
     ]
    }
   ],
   "source": [
    "print(\"\\nOriginal data\")\n",
    "print(data)\n",
    "print(\"\\nMissing values\")\n",
    "print(data.isnull().sum())\n",
    "print(\"\\nPercentage of missing values\")\n",
    "print(data.isnull().mean()*100)"
   ]
  },
  {
   "cell_type": "code",
   "execution_count": 4,
   "id": "0e9b7ed5-c86c-4dfd-90b6-d6618f4267bf",
   "metadata": {},
   "outputs": [
    {
     "name": "stdout",
     "output_type": "stream",
     "text": [
      "after removing rows:\n",
      "    age   salary           city  target\n",
      "0  25.0  50000.0       New York       1\n",
      "3  45.0  65000.0  San Francisco       0\n"
     ]
    }
   ],
   "source": [
    "#handling missing values`\n",
    "data2 = data.dropna()\n",
    "print(\"after removing rows:\")\n",
    "print(data2)"
   ]
  },
  {
   "cell_type": "code",
   "execution_count": 5,
   "id": "57a723ef-e0f8-400a-b6f4-d8d05177dfd9",
   "metadata": {},
   "outputs": [],
   "source": [
    "#data2 = data.dropna(axis=1)\n",
    "#print('after removing columns:')\n",
    "#print(data2)"
   ]
  },
  {
   "cell_type": "code",
   "execution_count": 6,
   "id": "a085678a-9773-482a-bde6-1504326ff75d",
   "metadata": {},
   "outputs": [],
   "source": [
    "from sklearn.impute import SimpleImputer"
   ]
  },
  {
   "cell_type": "code",
   "execution_count": 7,
   "id": "edfe0d2e-8d73-4cb9-9785-f15ea088baf8",
   "metadata": {},
   "outputs": [],
   "source": [
    "#numerical features\n",
    "num_features = ['age', 'salary' ] \n",
    "imputer_num = SimpleImputer(strategy='mean')\n",
    "data[num_features] = imputer_num.fit_transform(data[num_features])"
   ]
  },
  {
   "cell_type": "code",
   "execution_count": 8,
   "id": "72eef810-d949-4849-8613-6bd35dce5671",
   "metadata": {},
   "outputs": [],
   "source": [
    "#categorical features \n",
    "cat_features = [ 'city' ]\n",
    "imputer_cat = SimpleImputer(strategy='most_frequent')\n",
    "data[cat_features] = imputer_cat.fit_transform(data[cat_features])"
   ]
  },
  {
   "cell_type": "code",
   "execution_count": 9,
   "id": "2534e4af-4f0c-4816-88e7-b67b96792387",
   "metadata": {},
   "outputs": [],
   "source": [
    "from sklearn.preprocessing import StandardScaler, LabelEncoder"
   ]
  },
  {
   "cell_type": "code",
   "execution_count": 10,
   "id": "0fda08f9-ee01-452a-8aed-3ab478d58233",
   "metadata": {},
   "outputs": [],
   "source": [
    "#encoding categorical features \n",
    "label_encoders = {}\n",
    "for col in cat_features:\n",
    "    le = LabelEncoder()\n",
    "    data[col] = le.fit_transform(data[col])\n",
    "    label_encoders[col] = le"
   ]
  },
  {
   "cell_type": "code",
   "execution_count": 11,
   "id": "bc4eff2a-06e2-4362-9b70-cb5793ddba07",
   "metadata": {},
   "outputs": [],
   "source": [
    "scaler = StandardScaler()\n",
    "num_features = ['age', 'salary']\n",
    "data[num_features] = scaler.fit_transform(data[num_features])\n",
    "data.to_csv('cleaned_dataset.csv', index=False)"
   ]
  },
  {
   "cell_type": "code",
   "execution_count": 12,
   "id": "a1779738-3504-4380-b4dd-37b7a46a7f13",
   "metadata": {},
   "outputs": [
    {
     "name": "stdout",
     "output_type": "stream",
     "text": [
      "df to csv\n",
      "        age    salary  city  target\n",
      "0 -1.772294 -1.700840     1       1\n",
      "1  0.000000 -0.188982     0       0\n",
      "2  0.506370  0.000000     1       1\n",
      "3  1.265924  0.566947     2       0\n",
      "4  0.000000  1.322876     1       1\n"
     ]
    }
   ],
   "source": [
    "data1 = pd.read_csv('cleaned_dataset.csv')\n",
    "print('df to csv')\n",
    "print(data1)"
   ]
  },
  {
   "cell_type": "code",
   "execution_count": null,
   "id": "98317d4c-35d0-4135-a8de-e63d1ed001e0",
   "metadata": {},
   "outputs": [],
   "source": []
  }
 ],
 "metadata": {
  "kernelspec": {
   "display_name": "Python 3 (ipykernel)",
   "language": "python",
   "name": "python3"
  },
  "language_info": {
   "codemirror_mode": {
    "name": "ipython",
    "version": 3
   },
   "file_extension": ".py",
   "mimetype": "text/x-python",
   "name": "python",
   "nbconvert_exporter": "python",
   "pygments_lexer": "ipython3",
   "version": "3.12.7"
  }
 },
 "nbformat": 4,
 "nbformat_minor": 5
}
