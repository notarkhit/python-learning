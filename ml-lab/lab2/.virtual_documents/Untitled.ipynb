import pandas as pd
import numpy as np


data = pd.DataFrame ({
    'age':[25, np.nan, 40, 45, np.nan],
    'salary':[50000, 60000, np.nan, 65000, 70000],
    'city':['New York','Los Angeles','New York','San Francisco', np.nan ],
    'target':[1,0,1,0,1]
})


print("\nOriginal data")
print(data)
print("\nMissing values")
print(data.isnull().sum())
print("\nPercentage of missing values")
print(data.isnull().mean()*100)


#handling missing values`

data2 = data.dropna()
print("after removing rows:")
print(data2)


data2 = data.dropna(axis=1)
print('after removing columns:')
print(data)



