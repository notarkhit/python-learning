{
 "cells": [
  {
   "cell_type": "code",
   "execution_count": 10,
   "id": "5d5e7a96-97c5-4512-b52d-8b639870f68e",
   "metadata": {},
   "outputs": [],
   "source": [
    "import numpy as np \n",
    "import pandas as pd \n",
    "from sklearn.datasets import load_iris"
   ]
  },
  {
   "cell_type": "code",
   "execution_count": 11,
   "id": "e826b478-9661-4da6-bf24-323caeb0d13c",
   "metadata": {},
   "outputs": [],
   "source": [
    "iris = load_iris() \n",
    "x = pd.DataFrame(iris.data, columns=iris.feature_names) \n",
    "y = iris.target"
   ]
  },
  {
   "cell_type": "code",
   "execution_count": 12,
   "id": "5cd1a703-bd20-421a-9d6d-b61f0aa139eb",
   "metadata": {},
   "outputs": [],
   "source": [
    "#Splitting data\n",
    "from sklearn.model_selection import train_test_split \n",
    "xtrain, xtest, ytrain, ytest, = train_test_split(x,y, test_size=0.3, random_state=42)"
   ]
  },
  {
   "cell_type": "code",
   "execution_count": 13,
   "id": "ea33c227-4b95-48b5-9853-55e46b504b23",
   "metadata": {},
   "outputs": [],
   "source": [
    "from sklearn.naive_bayes import GaussianNB"
   ]
  },
  {
   "cell_type": "code",
   "execution_count": 14,
   "id": "1332975b-9ea5-40eb-87e4-72b7a33d490d",
   "metadata": {},
   "outputs": [],
   "source": [
    "nb = GaussianNB()\n",
    "nb.fit(xtrain, ytrain)\n",
    "ypred = nb.predict(xtest)"
   ]
  },
  {
   "cell_type": "code",
   "execution_count": 15,
   "id": "234e948d-b31d-4287-ab86-1c671c1336b0",
   "metadata": {},
   "outputs": [],
   "source": [
    "#Evaluate\n",
    "from sklearn.metrics import classification_report, confusion_matrix\n",
    "cm=confusion_matrix(ytest,ypred)"
   ]
  },
  {
   "cell_type": "code",
   "execution_count": 16,
   "id": "5eb9945f-203b-4f58-b03b-c96fec4a02f3",
   "metadata": {
    "panel-layout": {
     "height": 0,
     "visible": true,
     "width": 100
    }
   },
   "outputs": [
    {
     "name": "stdout",
     "output_type": "stream",
     "text": [
      "Confusion matrix:\n",
      " [[19  0  0]\n",
      " [ 0 12  1]\n",
      " [ 0  0 13]]\n"
     ]
    }
   ],
   "source": [
    "print(\"Confusion matrix:\\n\", cm)"
   ]
  },
  {
   "cell_type": "code",
   "execution_count": 17,
   "id": "7dc433eb-6ed0-48f2-8f09-48420da049f1",
   "metadata": {
    "panel-layout": {
     "height": 0,
     "visible": true,
     "width": 100
    }
   },
   "outputs": [
    {
     "name": "stdout",
     "output_type": "stream",
     "text": [
      "Classification Report \n",
      "               precision    recall  f1-score   support\n",
      "\n",
      "           0       1.00      1.00      1.00        19\n",
      "           1       1.00      0.92      0.96        13\n",
      "           2       0.93      1.00      0.96        13\n",
      "\n",
      "    accuracy                           0.98        45\n",
      "   macro avg       0.98      0.97      0.97        45\n",
      "weighted avg       0.98      0.98      0.98        45\n",
      "\n"
     ]
    }
   ],
   "source": [
    "print(\"Classification Report \\n\", classification_report(ytest, ypred))"
   ]
  },
  {
   "cell_type": "code",
   "execution_count": 18,
   "id": "d921a24a-6b61-4ccc-a405-c329cf506c8a",
   "metadata": {},
   "outputs": [
    {
     "name": "stdout",
     "output_type": "stream",
     "text": [
      "predicted unseen data label\n",
      "Versicolor\n"
     ]
    },
    {
     "name": "stderr",
     "output_type": "stream",
     "text": [
      "/home/notarkhit/anaconda3/lib/python3.12/site-packages/sklearn/base.py:493: UserWarning: X does not have valid feature names, but GaussianNB was fitted with feature names\n",
      "  warnings.warn(\n"
     ]
    }
   ],
   "source": [
    "#Validate on unseen data\n",
    "newTest =  np.array([[ 4.5, 1.2, 3.1, 2.1 ]])\n",
    "pred = nb.predict(newTest)\n",
    "print('predicted unseen data label')\n",
    "if pred==0:\n",
    "    print('Setosa')\n",
    "elif pred==1:\n",
    "    print('Versicolor')\n",
    "else:\n",
    "    print('Verginica')"
   ]
  },
  {
   "cell_type": "code",
   "execution_count": null,
   "id": "99490359-0ac9-43a0-9e81-68e1476059b0",
   "metadata": {},
   "outputs": [],
   "source": []
  }
 ],
 "metadata": {
  "kernelspec": {
   "display_name": "Python 3 (ipykernel)",
   "language": "python",
   "name": "python3"
  },
  "language_info": {
   "codemirror_mode": {
    "name": "ipython",
    "version": 3
   },
   "file_extension": ".py",
   "mimetype": "text/x-python",
   "name": "python",
   "nbconvert_exporter": "python",
   "pygments_lexer": "ipython3",
   "version": "3.12.7"
  },
  "panel-cell-order": [
   "5eb9945f-203b-4f58-b03b-c96fec4a02f3",
   "7dc433eb-6ed0-48f2-8f09-48420da049f1"
  ]
 },
 "nbformat": 4,
 "nbformat_minor": 5
}
