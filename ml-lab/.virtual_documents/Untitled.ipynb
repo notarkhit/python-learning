#Write a program to implement the naïve Bayesian classifier for a sample training data set
#stored as a .CSV file. Compute the accuracy of the classifier, considering few test data sets.


#Naive Bayes code
#i. iris dataset
import numpy as np
import pandas as pd
# Load dataset
from sklearn.datasets import load_iris
iris = load_iris()
X = pd.DataFrame(iris.data, columns=iris.feature_names)
y = iris.target
# Split data into training and testing sets
from sklearn.model_selection import train_test_split
X_train, X_test, y_train, y_test = train_test_split(X, y, test_size=0.3, random_state=42)
from sklearn.naive_bayes import GaussianNB
nb=GaussianNB()
nb.fit(X_train, y_train)
y_pred=nb.predict(X_test)
#Evaluate the model
from sklearn.metrics import classification_report, confusion_matrix
cm=confusion_matrix(y_test,y_pred)
print("Confusion Matrix:\n", cm)
print("classification report", classification_report(y_test, y_pred))
#Validate the model on Unseen data
test_new=np.array([[4.5,1.2,3.1,2.1]])
pred=nb.predict(test_new)
print('predicted unseen data label')
if pred==0:
print('Setosa')
elif pred==1:
print('Versicolor')
else:
print('Verginica')



