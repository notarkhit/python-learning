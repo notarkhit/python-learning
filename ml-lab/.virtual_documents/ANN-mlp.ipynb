from sklearn import datasets
from sklearn.model_selection import train_test_split
from sklearn.neural_network import MLPClassifier
from sklearn.metrics import accuracy_score


nlpDataset = datasets.load_digits()
x = nlpDataset.data
y = nlpDataset.target
xtrain, xtest, ytrain, ytest = train_test_split(x, y, test_size=0.3, random_state=42)


mlp = MLPClassifier(hidden_layer_sizes=(10,), max_iter=1000, activation='relu', solver='adam',
random_state=42)
mlp.fit(xtrain, ytrain)

ypred = mlp.predict(xtest)

accuracy = accuracy_score(ytest, ypred)
print(f"Accuracy: {accuracy * 100:.2f}%")



