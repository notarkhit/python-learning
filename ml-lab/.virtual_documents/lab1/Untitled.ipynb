import pandas as pdn


data = pd.read_csv("heart_disease.csv");


data


data["age"]


data.loc[1]


data.loc[[1,2,3,4],["age","chol"]]


data.iloc[0:2,0:5]


data[data["age"]<40]





data["age"].unique()


data["age"].value_counts()


data.isnull().sum()


data.drop("cp", axis=1)


data["age"].mean()


data["age"].median()


data["age"].mode



