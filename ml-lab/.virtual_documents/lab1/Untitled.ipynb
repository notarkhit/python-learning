import pandas as pd 


data = pd.read_csv("titanic.csv")


data.shape


print(data)


data



