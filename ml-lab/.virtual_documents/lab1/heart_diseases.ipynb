import pandas as pd


data = pd.read_csv("heart_disease.csv");


data


data["age"]


data.loc[1]


data.loc[[1,2,3,4],["age","chol"]]


data.iloc[0:2,0:5]


data[data["age"]<40]


data["slope"].unique()


data["age"].value_counts()


data.isnull().sum()


data.drop("cp", axis=1)


data["age"].mean()


data["age"].median()


data["age"].mode()


data.head()


data.head(23)


def fun(x): 
    return x*10


newdata = data["thalach"].apply(fun)


newdata


data.isnull().sum(axis=1).sort_values(ascending=False)


data



