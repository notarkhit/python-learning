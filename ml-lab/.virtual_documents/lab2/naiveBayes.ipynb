import numpy as np 
import pandas as pd 
from sklearn.datasets import load_iris


iris = load_iris() 
x = pd.DataFrame(iris.data, columns=iris.feature_names) 
y = iris.target


#Splitting data
from sklearn.model_selection import train_test_split 
xtrain, xtest, ytrain, ytest, = train_test_split(x,y, test_size=0.3, random_state=42)


from sklearn.naive_bayes import GaussianNB


nb = GaussianNB()
nb.fit(xtrain, ytrain)
ypred = nb.predict(xtest)


#Evaluate
from sklearn.metrics import classification_report, confusion_matrix
cm=confusion_matrix(ytest,ypred)


print("Confusion matrix:\n", cm)


print("Classification Report \n", classification_report(ytest, ypred))


#Validate on unseen data
newTest =  np.array([[ 4.5, 1.2, 3.1, 2.1 ]])
pred = nb.predict(newTest)
print('predicted unseen data label')
if pred==0:
    print('Setosa')
elif pred==1:
    print('Versicolor')
else:
    print('Verginica')



