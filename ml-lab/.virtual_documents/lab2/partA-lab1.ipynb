import pandas as pd
import matplotlib.pyplot as plt


from sklearn.datasets import load_iris
iris = load_iris()
df=pd.DataFrame(iris.data, columns= iris.feature_names)


print("Dataset Head:")
print(df.head()) # Display the first few rows of the dataset
print("\nDataset Info:")
print(df.info()) #


print("\nDataset Description:")
print(df.describe())
print("\nDataset Shape:")
print(df.shape) 
print("\nColumn Names:")
print(df.columns)
print("\nMissing Values:")
print(df.isnull().sum())


df.hist(figsize=(10, 8))
plt.show()



