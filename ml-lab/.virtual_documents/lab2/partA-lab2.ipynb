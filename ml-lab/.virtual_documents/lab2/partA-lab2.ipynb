import numpy as np
import pandas as pd
from sklearn.datasets import load_iris
from sklearn.feature_selection import SelectKBest, f_classif, RFE
from sklearn.model_selection import train_test_split
from sklearn.ensemble import RandomForestClassifier


iris = load_iris()
X = pd.DataFrame(iris.data, columns=iris.feature_names)
y = iris.target


X_train, X_test, y_train, y_test = train_test_split(X, y, test_size=0.3, random_state=42)


print("Univariate Feature Selection:")
selector = SelectKBest(score_func=f_classif, k=2)
X_new = selector.fit_transform(X_train, y_train)
print("Feature scores:", selector.scores_)
print("Selected features:", X_train.columns[selector.get_support()])


print("\nRecursive Feature Elimination (RFE):")
model = RandomForestClassifier(random_state=42)
rfe = RFE(estimator=model, n_features_to_select=2)
rfe.fit(X_train, y_train)
# Display selected features
print("Selected features:", X_train.columns[rfe.support_])


print("\nFeature Importance from Random Forest:")
model.fit(X_train,y_train)
importances = model.feature_importances_
indices = np.argsort(importances)[::-1]
print("Feature ranking:")
for f in range(X_train.shape[1]):
    print(f"{X_train.columns[indices[f]]}: {importances[indices[f]]}")



