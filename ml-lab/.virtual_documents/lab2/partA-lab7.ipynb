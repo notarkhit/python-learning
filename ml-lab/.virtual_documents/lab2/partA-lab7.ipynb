# create a clustering model 


import numpy as np
from sklearn.cluster import DBSCAN
import matplotlib.pyplot as plt


np.random.seed(42)
X = np.random.randn(50, 2)
X = np.vstack([X, np.random.uniform(low=-6, high=6, size=(20, 2))])
dbscan = DBSCAN(eps=0.5, min_samples=5)
labels = dbscan.fit_predict(X)


plt.scatter(X[:, 0], X[:, 1], c=labels, cmap='viridis', marker='o', s=50)
plt.title('DBSCAN Clustering')
plt.xlabel('Feature 1')
plt.ylabel('Feature 2')
plt.colorbar(label='Cluster Label')



