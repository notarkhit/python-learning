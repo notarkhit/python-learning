import numpy as np 
from sklearn.cluster import KMeans
from sklearn_extra.cluster import KMedoids
from sklearn.metrics import silhouette_score, davies_bouldin_score
import matplotlib.pyplot as plt


# Load data: 50 data points with 2 features
np.random.seed(42)
X = np.random.randn(50, 2)
# Apply KMeans clustering
kmeans = KMeans(n_clusters=3)
kmeans.fit(X)
# Get the cluster centers and labels
centers = kmeans.cluster_centers_
Klabels = kmeans.labels_
kmeans_inertia = kmeans.inertia_
#Measure cluster quality
kmeans_silhouette = silhouette_score(X, Klabels)
kmeans_db = davies_bouldin_score(X, Klabels)
#Apply k-mediods clustering
kmedoids = KMedoids(n_clusters=3)
kmedoids.fit(X)
# Get the cluster centers (medoids) and labels
medoids = kmedoids.cluster_centers_
KMlabels = kmedoids.labels_
#Measure cluster quality
kmedoids_silhouette = silhouette_score(X, KMlabels)
kmedoids_db = davies_bouldin_score(X, KMlabels)


print("K-Means:")
print(f"Silhouette Score: {kmeans_silhouette:.4f}")
print(f"Davies-Bouldin Index: {kmeans_db:.4f}")
print(f"Inertia (within-cluster sum of squares): {kmeans_inertia:.4f}")
print("\nK-Medoids:")
print(f"Silhouette Score: {kmedoids_silhouette:.4f}")
print(f"Davies-Bouldin Index: {kmedoids_db:.4f}")
print("Higher SS_Score -> well-separated clusters, lower DB_Index ->better clustering")
print("For K-Means, a lower Inertia -> more compact clusters")


# Plot the data points and cluster centers
# Plot K-Means clusters
plt.subplot(1, 2, 1)
plt.scatter(X[:, 0], X[:, 1], c=Klabels, cmap='viridis', marker='o')
plt.title("K-Means Clustering")
plt.xlabel("Feature 1")
plt.ylabel("Feature 2")
# Plot K-Medoids clusters
plt.subplot(1, 2, 2)
plt.scatter(X[:, 0], X[:, 1], c=KMlabels, cmap='viridis', marker='o')
plt.title("K-Medoids Clustering")
plt.xlabel("Feature 1")
plt.ylabel("Feature 2")
plt.tight_layout()
plt.show()



