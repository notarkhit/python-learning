{
 "cells": [
  {
   "cell_type": "code",
   "execution_count": 9,
   "id": "8ece940f-6b0f-4755-86f1-755139e2327f",
   "metadata": {},
   "outputs": [],
   "source": [
    "from sklearn import datasets\n",
    "from sklearn.model_selection import train_test_split\n",
    "from sklearn.neural_network import MLPClassifier\n",
    "from sklearn.metrics import accuracy_score"
   ]
  },
  {
   "cell_type": "code",
   "execution_count": 18,
   "id": "61c6881f-eb6e-4573-9655-c2975d269dd9",
   "metadata": {},
   "outputs": [],
   "source": [
    "nlpDataset = datasets.load_digits()\n",
    "x = nlpDataset.data\n",
    "y = nlpDataset.target\n",
    "xtrain, xtest, ytrain, ytest = train_test_split(x, y, test_size=0.3, random_state=42)"
   ]
  },
  {
   "cell_type": "code",
   "execution_count": 19,
   "id": "10dffda5-e39e-402d-bf99-9efbf3efaea9",
   "metadata": {},
   "outputs": [
    {
     "name": "stdout",
     "output_type": "stream",
     "text": [
      "Accuracy: 95.00%\n"
     ]
    }
   ],
   "source": [
    "mlp = MLPClassifier(hidden_layer_sizes=(10,), max_iter=1000, activation='relu', solver='adam',\n",
    "random_state=42)\n",
    "mlp.fit(xtrain, ytrain)\n",
    "\n",
    "ypred = mlp.predict(xtest)\n",
    "\n",
    "accuracy = accuracy_score(ytest, ypred)\n",
    "print(f\"Accuracy: {accuracy * 100:.2f}%\")"
   ]
  },
  {
   "cell_type": "code",
   "execution_count": null,
   "id": "5861609c-74a8-4d5a-8c22-594ffd68a305",
   "metadata": {},
   "outputs": [],
   "source": []
  }
 ],
 "metadata": {
  "kernelspec": {
   "display_name": "Python 3 (ipykernel)",
   "language": "python",
   "name": "python3"
  },
  "language_info": {
   "codemirror_mode": {
    "name": "ipython",
    "version": 3
   },
   "file_extension": ".py",
   "mimetype": "text/x-python",
   "name": "python",
   "nbconvert_exporter": "python",
   "pygments_lexer": "ipython3",
   "version": "3.12.7"
  }
 },
 "nbformat": 4,
 "nbformat_minor": 5
}
